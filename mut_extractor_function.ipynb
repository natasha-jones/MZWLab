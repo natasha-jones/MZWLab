{
 "cells": [
  {
   "cell_type": "code",
   "execution_count": 1,
   "metadata": {},
   "outputs": [],
   "source": [
    "def mut_extractor(self, df, column):\n",
    "    num_list = []\n",
    "    for entry in df[column]:  # row-wise, Get rows by using ['(column_name)']\n",
    "        nums = \"\"\n",
    "        for char in str(entry):  # make sure entry is a string, and iterate through each character\n",
    "            if char.isdigit():\n",
    "                nums += char  # Collect all numbers in string by adding them to a string (if ...isdigit())\n",
    "            elif (char.isdigit()==False) & ((len(nums)==3) or (len(nums)==4)):\n",
    "                break # Ends loop early to prevent grabbing extra numbers that aren't associated with start of mutation\n",
    "        if len(nums) > 4:\n",
    "            nums = nums[:4] # Grab first 4 numbers only if the length of the string is >4 (accounts for insertion/deletions)\n",
    "        #print(nums)\n",
    "        num_list.append(nums)\n",
    "    #print(num_list)\n",
    "\n",
    "    # next 2 rows will make sure everything positions are kept in rows and have actual meaning (numerical value)\n",
    "    a = [[int(c) for c in num_list[i]] for i in range(len(num_list))] # converts each character to an integer\n",
    "    a = [glue(L) for L in a] # glues integers together\n",
    "    #print(a)\n",
    "    \n",
    "    # Count how many times each mutation occurs\n",
    "    max_chrom_num = -1\n",
    "    for num in a:\n",
    "        if num > max_chrom_num:\n",
    "            max_chrom_num = num\n",
    "    d = [0 for _ in range(max_chrom_num + 1)]\n",
    "    memo_keys = []\n",
    "    for key in a:\n",
    "        if key not in memo_keys:\n",
    "            memo_keys.append(key)\n",
    "        d[key] += 1\n",
    "    #print(memo_keys)\n",
    "    #for key in num_list:\n",
    "        #print(f\"Chrom_num:{key} shows up {d[int(key)]} times\")\n",
    "        \n",
    "    # Convert each entry in array to integers for use in histogram    \n",
    "    num_array = np.zeros(len(num_list))\n",
    "    for i in range(len(num_list)):\n",
    "        num_array[i] = int(float(a[i])) # convert entry to integer\n",
    "        \n",
    "    return(num_array)"
   ]
  }
 ],
 "metadata": {
  "kernelspec": {
   "display_name": "Python 3",
   "language": "python",
   "name": "python3"
  },
  "language_info": {
   "codemirror_mode": {
    "name": "ipython",
    "version": 3
   },
   "file_extension": ".py",
   "mimetype": "text/x-python",
   "name": "python",
   "nbconvert_exporter": "python",
   "pygments_lexer": "ipython3",
   "version": "3.8.3"
  }
 },
 "nbformat": 4,
 "nbformat_minor": 4
}
